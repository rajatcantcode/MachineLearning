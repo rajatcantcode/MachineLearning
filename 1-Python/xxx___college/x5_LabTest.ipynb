{
 "cells": [
  {
   "cell_type": "code",
   "execution_count": 5,
   "metadata": {},
   "outputs": [
    {
     "name": "stdout",
     "output_type": "stream",
     "text": [
      "Invalid Input\n"
     ]
    }
   ],
   "source": [
    "# Problem 1\n",
    "def check_palindrome():\n",
    "    try:\n",
    "        num = int(input(\"Enter a number: \"))\n",
    "        if num < 0:\n",
    "            print(\"Number must be positive.\")\n",
    "        else:\n",
    "            if str(num) == str(num)[::-1]:\n",
    "                print(\"Yes\")\n",
    "            else:\n",
    "                print(\"No\")\n",
    "    except ValueError:\n",
    "        print(\"Invalid Input\")\n",
    "\n",
    "\n",
    "\n",
    "check_palindrome()\n"
   ]
  },
  {
   "cell_type": "code",
   "execution_count": 14,
   "metadata": {},
   "outputs": [
    {
     "name": "stdout",
     "output_type": "stream",
     "text": [
      "B\n"
     ]
    }
   ],
   "source": [
    "# Problem 2\n",
    "try:\n",
    "    marks = int(input(\"Enter marks: \"))\n",
    "    if marks < 0:\n",
    "        print(\"Marks can’t be negative.\")\n",
    "    elif marks >= 90:\n",
    "        print(\"A\")\n",
    "    elif marks >= 80:\n",
    "        print(\"B\")\n",
    "    elif marks >= 70:\n",
    "        print(\"C\")\n",
    "    elif marks >= 60:\n",
    "        print(\"D\")\n",
    "    else:\n",
    "        print(\"F\")\n",
    "except ValueError:\n",
    "    print(\"Invalid Input\")\n"
   ]
  },
  {
   "cell_type": "code",
   "execution_count": 8,
   "metadata": {},
   "outputs": [
    {
     "name": "stdout",
     "output_type": "stream",
     "text": [
      "[['rajat', '12', '1']]\n"
     ]
    }
   ],
   "source": [
    "# Problem 3\n",
    "try:\n",
    "    num_students = int(input(\"Enter number of students: \"))\n",
    "    if num_students <= 0:\n",
    "        print(\"Invalid Input\")\n",
    "    else:\n",
    "        students = []\n",
    "        for i in range(num_students):\n",
    "            name = input(f\"Enter name of student {i+1}: \")\n",
    "            age = input(f\"Enter age of student {i+1}: \")\n",
    "            grade = input(f\"Enter grade of student {i+1}: \")\n",
    "            students.append([name, age, grade])\n",
    "        print(students)\n",
    "except ValueError:\n",
    "    print(\"Invalid Input\")\n"
   ]
  },
  {
   "cell_type": "code",
   "execution_count": 9,
   "metadata": {},
   "outputs": [
    {
     "name": "stdout",
     "output_type": "stream",
     "text": [
      "{2048, 2052, 2056, 2060, 2064, 2068, 2072, 2076, 2080, 2084, 2088, 2092, 2096, 2104, 2108, 2112, 2116, 2120, 2124, 2128, 2132, 2136, 2140, 2144, 2148, 2152, 2156, 2160, 2164, 2168, 2172, 2176, 2180, 2184, 2188, 2192, 2196, 2204, 2208, 2212, 2216, 2220, 2224, 2228, 2232, 2236, 2240, 2244, 2248, 2252, 2256, 2260, 2264, 2268, 2272, 2276, 2280, 2284, 2288, 2292, 2296, 2304, 2308, 2312, 2316, 2320, 2324, 2328, 2332, 2336, 2340, 2344, 2348, 2352, 2356, 2360, 2364, 2368, 2372, 2376, 2380, 2384, 2388, 2392, 2396, 2400, 2404, 2408, 2412, 2416, 2420, 2424, 2428, 2432, 2436, 2440, 2444, 2448, 2452, 2456, 2460, 2464, 2468, 2472, 2476, 2480, 2484, 2488, 2492, 2496, 2000, 2004, 2008, 2012, 2016, 2020, 2024, 2028, 2032, 2036, 2040, 2044}\n"
     ]
    }
   ],
   "source": [
    "\n",
    "# Problem 4\n",
    "leap_years = set()\n",
    "\n",
    "for year in range(2000, 2500):\n",
    "    # A year is a leap year if:\n",
    "    # - It is divisible by 4 but not divisible by 100, \n",
    "    #   OR\n",
    "    # - It is divisible by 400\n",
    "    if (year % 4 == 0 and year % 100 != 0) or (year % 400 == 0):\n",
    "        leap_years.add(year) \n",
    "\n",
    "print(leap_years)\n"
   ]
  },
  {
   "cell_type": "code",
   "execution_count": 13,
   "metadata": {},
   "outputs": [
    {
     "name": "stdout",
     "output_type": "stream",
     "text": [
      "-13213\n",
      "31231-\n"
     ]
    }
   ],
   "source": [
    "# Problem 5\n",
    "class Person:\n",
    "    def show_info(self, txt):\n",
    "        print(txt)\n",
    "        # print(\"Checking parent\")\n",
    "\n",
    "class Student(Person):\n",
    "    def show_info(self, txt):\n",
    "        super().show_info(txt)  # Calling Parent method\n",
    "        print(txt[::-1])\n",
    "        \n",
    "txt = input(\"Enter text: \")\n",
    "student = Student()\n",
    "student.show_info(txt)\n"
   ]
  }
 ],
 "metadata": {
  "kernelspec": {
   "display_name": "Python 3",
   "language": "python",
   "name": "python3"
  },
  "language_info": {
   "codemirror_mode": {
    "name": "ipython",
    "version": 3
   },
   "file_extension": ".py",
   "mimetype": "text/x-python",
   "name": "python",
   "nbconvert_exporter": "python",
   "pygments_lexer": "ipython3",
   "version": "3.10.14"
  }
 },
 "nbformat": 4,
 "nbformat_minor": 2
}
