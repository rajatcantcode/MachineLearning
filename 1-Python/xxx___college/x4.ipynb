{
 "cells": [
  {
   "cell_type": "markdown",
   "metadata": {},
   "source": [
    "Tutorial 6 docx - Good Tutorial Located in assets of this folder"
   ]
  },
  {
   "cell_type": "code",
   "execution_count": 19,
   "metadata": {},
   "outputs": [
    {
     "name": "stdout",
     "output_type": "stream",
     "text": [
      "{0: 0, 7: 0, 1: 1, 8: 1, 2: 2, 9: 2, 3: 3, 10: 3}\n",
      "{0: 0, 1: 1, 2: 1, 3: 2}\n"
     ]
    }
   ],
   "source": [
    "# # We can't do like this with default arguments\n",
    "# def add(a=0, b):\n",
    "#     return a + b\n",
    "\n",
    "# # Right way to do it\n",
    "# def add(a, b=0):\n",
    "#     return a + b\n",
    "\n",
    "\n",
    "dict1 = dict()\n",
    "for y in enumerate(range(4)):\n",
    "    dict1[y[0]] = y[1]\n",
    "    dict1[y[1] + 7] = y[0]\n",
    "print(dict1)\n"
   ]
  },
  {
   "cell_type": "code",
   "execution_count": 2,
   "metadata": {},
   "outputs": [
    {
     "name": "stdout",
     "output_type": "stream",
     "text": [
      "False\n"
     ]
    }
   ],
   "source": [
    "a = 10\n",
    "b = 4\n",
    "print(a==b)"
   ]
  },
  {
   "cell_type": "code",
   "execution_count": 16,
   "metadata": {},
   "outputs": [
    {
     "name": "stdout",
     "output_type": "stream",
     "text": [
      "(0, 0)\n",
      "(1, 1)\n",
      "(2, 2)\n",
      "(3, 3)\n"
     ]
    }
   ],
   "source": [
    "dict1 = dict()\n",
    "\n",
    "for y in enumerate(range(4)):\n",
    "    dict1[y[0]] = y[0]\n",
    "    dict1[y[0] + 7] = y[1]\n",
    "print(dict1)"
   ]
  },
  {
   "cell_type": "code",
   "execution_count": 15,
   "metadata": {},
   "outputs": [
    {
     "name": "stdout",
     "output_type": "stream",
     "text": [
      "Rounit 19\n"
     ]
    }
   ],
   "source": [
    "class Human:\n",
    "    def __init__(rounit,name,age):\n",
    "        rounit.name = name\n",
    "        rounit.age = age\n",
    "        \n",
    "    def printNameAge(rounit):\n",
    "        print(rounit.name,rounit.age)\n",
    "        \n",
    "        \n",
    "bla = Human(\"Rounit\",19)\n",
    "bla.printNameAge()"
   ]
  }
 ],
 "metadata": {
  "kernelspec": {
   "display_name": "Python 3",
   "language": "python",
   "name": "python3"
  },
  "language_info": {
   "codemirror_mode": {
    "name": "ipython",
    "version": 3
   },
   "file_extension": ".py",
   "mimetype": "text/x-python",
   "name": "python",
   "nbconvert_exporter": "python",
   "pygments_lexer": "ipython3",
   "version": "3.10.14"
  }
 },
 "nbformat": 4,
 "nbformat_minor": 2
}
